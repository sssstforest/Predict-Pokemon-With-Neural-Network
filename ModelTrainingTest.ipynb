{
 "cells": [
  {
   "cell_type": "code",
   "execution_count": 1,
   "metadata": {},
   "outputs": [
    {
     "name": "stderr",
     "output_type": "stream",
     "text": [
<<<<<<< HEAD
      "2024-03-12 01:45:52.313449: I external/local_tsl/tsl/cuda/cudart_stub.cc:32] Could not find cuda drivers on your machine, GPU will not be used.\n",
      "2024-03-12 01:45:52.597218: I external/local_tsl/tsl/cuda/cudart_stub.cc:32] Could not find cuda drivers on your machine, GPU will not be used.\n",
      "2024-03-12 01:45:52.761701: I tensorflow/core/platform/cpu_feature_guard.cc:210] This TensorFlow binary is optimized to use available CPU instructions in performance-critical operations.\n",
      "To enable the following instructions: AVX2 FMA, in other operations, rebuild TensorFlow with the appropriate compiler flags.\n",
      "2024-03-12 01:45:55.298169: W tensorflow/compiler/tf2tensorrt/utils/py_utils.cc:38] TF-TRT Warning: Could not find TensorRT\n"
=======
      "2024-03-12 01:18:32.159197: I external/local_tsl/tsl/cuda/cudart_stub.cc:32] Could not find cuda drivers on your machine, GPU will not be used.\n",
      "2024-03-12 01:18:32.162423: I external/local_tsl/tsl/cuda/cudart_stub.cc:32] Could not find cuda drivers on your machine, GPU will not be used.\n",
      "2024-03-12 01:18:32.201228: I tensorflow/core/platform/cpu_feature_guard.cc:210] This TensorFlow binary is optimized to use available CPU instructions in performance-critical operations.\n",
      "To enable the following instructions: AVX2 FMA, in other operations, rebuild TensorFlow with the appropriate compiler flags.\n",
      "2024-03-12 01:18:33.128337: W tensorflow/compiler/tf2tensorrt/utils/py_utils.cc:38] TF-TRT Warning: Could not find TensorRT\n"
>>>>>>> ccf85b41989ab1a3c3e1beeb78a25e896109840b
     ]
    }
   ],
   "source": [
    "import numpy as np\n",
    "import nnfs\n",
    "from ModelClasses import *\n",
    "nnfs.init()"
   ]
  },
  {
   "cell_type": "code",
   "execution_count": 2,
   "metadata": {},
   "outputs": [
    {
     "name": "stdout",
     "output_type": "stream",
     "text": [
      "['Meowth', 'Kabuto', 'Cloyster', 'Arbok', 'Tentacool', 'Muk', 'Slowbro', 'Tangela', 'Flareon', 'Snorlax', 'Lickitung', 'Primeape', 'Farfetchd', 'Mew', 'Pikachu', 'MrMime', 'Hitmonlee', 'Oddish', 'Ponyta', 'Articuno', 'Weezing', 'Haunter', 'Poliwrath', 'Pidgey', 'Weepinbell', 'Staryu', 'Sandslash', 'Sandshrew', 'Dugtrio', 'Dewgong', 'Magneton', 'Kakuna', 'Spearow', 'Poliwag', 'Victreebel', 'Ekans', 'Nidorina', 'Hypno', 'Weedle', 'Charmander', 'Ditto', 'Venonat', 'Lapras', 'Jolteon', 'Alakazam', 'Aerodactyl', 'Rhyhorn', 'Goldeen', 'Golduck', 'Horsea', 'Onix', 'Koffing', 'Jynx', 'Pinsir', 'Krabby', 'Seaking', 'Chansey', 'Abra', 'Bulbasaur', 'Bellsprout', 'Golem', 'Magmar', 'Mewtwo', 'Gyarados', 'Wigglytuff', 'Growlithe', 'Diglett', 'Caterpie', 'Wartortle', 'Beedrill', 'Magnemite', 'Dodrio', 'Grimer', 'Shellder', 'Kingler', 'Slowpoke', 'Electrode', 'Parasect', 'Poliwhirl', 'Persian', 'Graveler', 'Doduo', 'Jigglypuff', 'Clefairy', 'Rhydon', 'Drowzee', 'Nidoking', 'Gloom', 'Seadra', 'Golbat', 'Ninetales', 'Zapdos', 'Machop', 'Kadabra', 'Hitmonchan', 'Ivysaur', 'Marowak', 'Charmeleon', 'Eevee', 'Paras', 'Fearow', 'Nidorino', 'Omanyte', 'Arcanine', 'Blastoise', 'Dragonair', 'Pidgeotto', 'Raticate', 'Vulpix', 'Omastar', 'Moltres', 'Gastly', 'Exeggcute', 'Geodude', 'Pidgeot', 'Gengar', 'Machoke', 'Butterfree', 'Dratini', 'Zubat', 'Kangaskhan', 'Electabuzz', 'Raichu', 'Tauros', 'Clefable', 'Nidoqueen', 'Starmie', 'Squirtle', 'Vaporeon', 'Kabutops', 'Rattata', 'Exeggutor', 'Psyduck', 'Tentacruel', 'Venusaur', 'Venomoth', 'Charizard', 'Metapod', 'Dragonite', 'Porygon', 'Vileplume', 'Scyther', 'Magikarp', 'Rapidash', 'Alolan Sandslash', 'Voltorb', 'Mankey', 'Machamp', 'Seel', 'Cubone']\n",
      "150\n"
     ]
    }
   ],
   "source": [
    "labels = os.listdir('PokemonData')\n",
    "print(labels)\n",
    "print(len(labels))"
   ]
  },
  {
   "cell_type": "code",
   "execution_count": 3,
   "metadata": {},
   "outputs": [],
   "source": [
    "# from PIL import Image\n",
    "# import os\n",
    "\n",
    "# # cnt = 0\n",
    "# def resize_images(path, size=(128, 128)):\n",
    "#     cnt = 0\n",
    "#     for folder in os.listdir(path):\n",
    "#         for filename in os.listdir(os.path.join(path, folder)):\n",
    "#             if filename.endswith('.jpg') or filename.endswith('.png'):  # Add/modify file types here.\n",
    "#                 print(cnt)\n",
    "#                 cnt = cnt+1\n",
    "#                 img = Image.open(os.path.join(path, folder, filename))\n",
    "#                 img = img.resize(size, Image.LANCZOS)\n",
    "#                 img.save(os.path.join(path, folder, filename))  # Overwrites the original image. If you don't want this, change the path here.\n",
    "\n",
    "# # Usage:\n",
    "# resize_images('PokemonData')"
   ]
  },
  {
   "cell_type": "code",
   "execution_count": 5,
   "metadata": {},
   "outputs": [],
   "source": [
    "# X, y= create_data_mnist('PokemonData')"
   ]
  },
  {
   "cell_type": "code",
   "execution_count": null,
   "metadata": {},
   "outputs": [],
   "source": []
  },
  {
   "cell_type": "code",
   "execution_count": null,
   "metadata": {},
   "outputs": [],
   "source": []
  },
  {
   "cell_type": "code",
   "execution_count": null,
   "metadata": {},
   "outputs": [],
   "source": []
  },
  {
   "cell_type": "code",
   "execution_count": null,
   "metadata": {},
   "outputs": [],
   "source": []
  },
  {
   "cell_type": "code",
   "execution_count": null,
   "metadata": {},
   "outputs": [],
   "source": []
  },
  {
   "cell_type": "code",
   "execution_count": 3,
   "metadata": {},
   "outputs": [],
   "source": [
    "# import random\n",
    "# import tensorflow as tf\n",
    "# from tensorflow.python.keras.models import Sequential\n",
    "# # from tensorflow.keras.preprocessing.image import load_img, img_to_array\n",
    "# from tensorflow.keras.preprocessing.image import ImageDataGenerator\n",
    "# from tensorflow.python.keras.layers import Dense, Flatten, GlobalAveragePooling2D, Conv2D, MaxPooling2D\n",
    "# from tensorflow.python.keras.preprocessing.image import ImageDataGenerator\n",
    "# from tensorflow.python.keras.callbacks import ModelCheckpoint, EarlyStopping\n",
    "import random\n",
    "from tensorflow.keras.preprocessing.image import load_img, img_to_array"
   ]
  },
  {
   "cell_type": "code",
<<<<<<< HEAD
   "execution_count": 4,
=======
   "execution_count": 7,
>>>>>>> ccf85b41989ab1a3c3e1beeb78a25e896109840b
   "metadata": {},
   "outputs": [],
   "source": [
    "def input_target_split(train_dir,labels):\n",
    "    dataset = []\n",
    "    count = 0\n",
    "    for label in labels:\n",
    "        folder = os.path.join(train_dir,label)\n",
    "        for image in os.listdir(folder):\n",
    "            try:\n",
    "                img=load_img(os.path.join(folder,image), target_size=(128,128))\n",
    "                img=img_to_array(img)\n",
    "                img=img/255.0\n",
    "                # img = cv2.imread(\n",
    "                #         os.path.join(folder, image),\n",
    "                #         cv2.IMREAD_UNCHANGED)\n",
    "                img=img/255.0\n",
    "                dataset.append((img,label))\n",
    "            except:\n",
    "                pass\n",
    "        print(f'\\rCompleted: {label}',end='')\n",
    "        count+=1\n",
    "    random.shuffle(dataset)\n",
    "    X, y = zip(*dataset)\n",
    "    \n",
    "    return np.array(X),np.array(y)"
   ]
  },
  {
   "cell_type": "code",
<<<<<<< HEAD
   "execution_count": 5,
=======
   "execution_count": 8,
>>>>>>> ccf85b41989ab1a3c3e1beeb78a25e896109840b
   "metadata": {},
   "outputs": [
    {
     "name": "stdout",
     "output_type": "stream",
     "text": [
      "Completed: CubonepSandslash"
     ]
    }
   ],
   "source": [
    "X, y = input_target_split('PokemonData',labels)"
   ]
  },
  {
   "cell_type": "code",
<<<<<<< HEAD
   "execution_count": 6,
=======
   "execution_count": 7,
>>>>>>> ccf85b41989ab1a3c3e1beeb78a25e896109840b
   "metadata": {},
   "outputs": [
    {
     "name": "stdout",
     "output_type": "stream",
     "text": [
<<<<<<< HEAD
      "['Voltorb' 'Raichu' 'Victreebel' ... 'Dewgong' 'Poliwag' 'Growlithe']\n"
=======
      "[ 16 142  99 ...  95  60  78]\n"
>>>>>>> ccf85b41989ab1a3c3e1beeb78a25e896109840b
     ]
    }
   ],
   "source": [
    "print(y)"
   ]
  },
  {
   "cell_type": "code",
<<<<<<< HEAD
   "execution_count": 7,
=======
   "execution_count": null,
>>>>>>> ccf85b41989ab1a3c3e1beeb78a25e896109840b
   "metadata": {},
   "outputs": [
    {
     "name": "stdout",
     "output_type": "stream",
     "text": [
      "(5322, 128, 128, 3) (1502, 128, 128, 3) (5322,) (1502,)\n"
     ]
    }
   ],
   "source": [
    "from sklearn.model_selection import train_test_split\n",
    "\n",
    "X_train, X_test, y_train, y_test = train_test_split(X, y, test_size=0.22, random_state=42)\n",
    "# print(np.unique(y_train,return_counts=True),np.unique(y_test,return_counts=True))\n",
    "print(X_train.shape, X_test.shape, y_train.shape, y_test.shape)"
   ]
  },
  {
   "cell_type": "code",
   "execution_count": 8,
   "metadata": {},
   "outputs": [],
   "source": [
    "# keys = np.array(range(X_train.shape[0]))\n",
    "# np.random.shuffle(keys)\n",
    "# X_train = X_train[keys]\n",
    "# y_train = y_train[keys]\n",
    "\n",
    "# # Scale and reshape samples\n",
    "# X_train = (X_train.reshape(X_train.shape[0], -1).astype(np.float32) - 127.5) / 127.5\n",
    "# X_test = (X_test.reshape(X_test.shape[0], -1).astype(np.float32) -\n",
    "#              127.5) / 127.5\n",
    "\n",
    "# Instantiate the model\n",
    "# model = Model()"
   ]
  },
  {
   "cell_type": "code",
   "execution_count": 9,
   "metadata": {},
   "outputs": [
    {
     "name": "stdout",
     "output_type": "stream",
     "text": [
      "(5322, 49152)\n",
      "(5322,)\n",
      "(1502, 49152)\n",
      "(1502,)\n"
     ]
    }
   ],
   "source": [
    "X_train_reshaped = (X_train.reshape(X_train.shape[0], -1).astype(np.float32) - 127.5) / 127.5\n",
    "X_test_reshaped = (X_test.reshape(X_test.shape[0], -1).astype(np.float32) -\n",
    "             127.5) / 127.\n",
    "print(X_train_reshaped.shape)\n",
    "print(y_train.shape)\n",
    "print(X_test_reshaped.shape)\n",
    "print(y_test.shape)"
   ]
  },
  {
   "cell_type": "code",
   "execution_count": 10,
   "metadata": {},
   "outputs": [
    {
     "name": "stdout",
     "output_type": "stream",
     "text": [
<<<<<<< HEAD
      "epoch: 1\n"
     ]
    },
    {
     "ename": "IndexError",
     "evalue": "arrays used as indices must be of integer (or boolean) type",
     "output_type": "error",
     "traceback": [
      "\u001b[0;31m---------------------------------------------------------------------------\u001b[0m",
      "\u001b[0;31mIndexError\u001b[0m                                Traceback (most recent call last)",
      "Cell \u001b[0;32mIn[10], line 21\u001b[0m\n\u001b[1;32m     18\u001b[0m model\u001b[38;5;241m.\u001b[39mfinalize()\n\u001b[1;32m     20\u001b[0m \u001b[38;5;66;03m# Train the model\u001b[39;00m\n\u001b[0;32m---> 21\u001b[0m \u001b[43mmodel\u001b[49m\u001b[38;5;241;43m.\u001b[39;49m\u001b[43mtrain\u001b[49m\u001b[43m(\u001b[49m\u001b[43mX_train_reshaped\u001b[49m\u001b[43m,\u001b[49m\u001b[43m \u001b[49m\u001b[43my_train\u001b[49m\u001b[43m,\u001b[49m\u001b[43m \u001b[49m\u001b[43mvalidation_data\u001b[49m\u001b[38;5;241;43m=\u001b[39;49m\u001b[43m(\u001b[49m\u001b[43mX_test_reshaped\u001b[49m\u001b[43m,\u001b[49m\u001b[43m \u001b[49m\u001b[43my_test\u001b[49m\u001b[43m)\u001b[49m\u001b[43m,\u001b[49m\n\u001b[1;32m     22\u001b[0m \u001b[43m            \u001b[49m\u001b[43mepochs\u001b[49m\u001b[38;5;241;43m=\u001b[39;49m\u001b[38;5;241;43m10\u001b[39;49m\u001b[43m,\u001b[49m\u001b[43m \u001b[49m\u001b[43mbatch_size\u001b[49m\u001b[38;5;241;43m=\u001b[39;49m\u001b[38;5;241;43m128\u001b[39;49m\u001b[43m,\u001b[49m\u001b[43m \u001b[49m\u001b[43mprint_every\u001b[49m\u001b[38;5;241;43m=\u001b[39;49m\u001b[38;5;241;43m100\u001b[39;49m\u001b[43m)\u001b[49m\n",
      "File \u001b[0;32m/workspaces/Predict-Pokemon-With-Neural-Network/ModelClasses.py:915\u001b[0m, in \u001b[0;36mModel.train\u001b[0;34m(self, X, y, epochs, batch_size, print_every, validation_data)\u001b[0m\n\u001b[1;32m    911\u001b[0m output \u001b[38;5;241m=\u001b[39m \u001b[38;5;28mself\u001b[39m\u001b[38;5;241m.\u001b[39mforward(batch_X, training\u001b[38;5;241m=\u001b[39m\u001b[38;5;28;01mTrue\u001b[39;00m)\n\u001b[1;32m    913\u001b[0m \u001b[38;5;66;03m# Calculate loss\u001b[39;00m\n\u001b[1;32m    914\u001b[0m data_loss, regularization_loss \u001b[38;5;241m=\u001b[39m \\\n\u001b[0;32m--> 915\u001b[0m     \u001b[38;5;28;43mself\u001b[39;49m\u001b[38;5;241;43m.\u001b[39;49m\u001b[43mloss\u001b[49m\u001b[38;5;241;43m.\u001b[39;49m\u001b[43mcalculate\u001b[49m\u001b[43m(\u001b[49m\u001b[43moutput\u001b[49m\u001b[43m,\u001b[49m\u001b[43m \u001b[49m\u001b[43mbatch_y\u001b[49m\u001b[43m,\u001b[49m\n\u001b[1;32m    916\u001b[0m \u001b[43m                        \u001b[49m\u001b[43minclude_regularization\u001b[49m\u001b[38;5;241;43m=\u001b[39;49m\u001b[38;5;28;43;01mTrue\u001b[39;49;00m\u001b[43m)\u001b[49m\n\u001b[1;32m    917\u001b[0m loss \u001b[38;5;241m=\u001b[39m data_loss \u001b[38;5;241m+\u001b[39m regularization_loss\n\u001b[1;32m    919\u001b[0m \u001b[38;5;66;03m# Get predictions and calculate an accuracy\u001b[39;00m\n",
      "File \u001b[0;32m/workspaces/Predict-Pokemon-With-Neural-Network/ModelClasses.py:503\u001b[0m, in \u001b[0;36mLoss.calculate\u001b[0;34m(self, output, y, include_regularization)\u001b[0m\n\u001b[1;32m    500\u001b[0m \u001b[38;5;28;01mdef\u001b[39;00m \u001b[38;5;21mcalculate\u001b[39m(\u001b[38;5;28mself\u001b[39m, output, y, \u001b[38;5;241m*\u001b[39m, include_regularization\u001b[38;5;241m=\u001b[39m\u001b[38;5;28;01mFalse\u001b[39;00m):\n\u001b[1;32m    501\u001b[0m \n\u001b[1;32m    502\u001b[0m     \u001b[38;5;66;03m# Calculate sample losses\u001b[39;00m\n\u001b[0;32m--> 503\u001b[0m     sample_losses \u001b[38;5;241m=\u001b[39m \u001b[38;5;28;43mself\u001b[39;49m\u001b[38;5;241;43m.\u001b[39;49m\u001b[43mforward\u001b[49m\u001b[43m(\u001b[49m\u001b[43moutput\u001b[49m\u001b[43m,\u001b[49m\u001b[43m \u001b[49m\u001b[43my\u001b[49m\u001b[43m)\u001b[49m\n\u001b[1;32m    505\u001b[0m     \u001b[38;5;66;03m# Calculate mean loss\u001b[39;00m\n\u001b[1;32m    506\u001b[0m     data_loss \u001b[38;5;241m=\u001b[39m np\u001b[38;5;241m.\u001b[39mmean(sample_losses)\n",
      "File \u001b[0;32m/workspaces/Predict-Pokemon-With-Neural-Network/ModelClasses.py:555\u001b[0m, in \u001b[0;36mLoss_CategoricalCrossentropy.forward\u001b[0;34m(self, y_pred, y_true)\u001b[0m\n\u001b[1;32m    552\u001b[0m \u001b[38;5;66;03m# Probabilities for target values -\u001b[39;00m\n\u001b[1;32m    553\u001b[0m \u001b[38;5;66;03m# only if categorical labels\u001b[39;00m\n\u001b[1;32m    554\u001b[0m \u001b[38;5;28;01mif\u001b[39;00m \u001b[38;5;28mlen\u001b[39m(y_true\u001b[38;5;241m.\u001b[39mshape) \u001b[38;5;241m==\u001b[39m \u001b[38;5;241m1\u001b[39m:\n\u001b[0;32m--> 555\u001b[0m     correct_confidences \u001b[38;5;241m=\u001b[39m \u001b[43my_pred_clipped\u001b[49m\u001b[43m[\u001b[49m\n\u001b[1;32m    556\u001b[0m \u001b[43m        \u001b[49m\u001b[38;5;28;43mrange\u001b[39;49m\u001b[43m(\u001b[49m\u001b[43msamples\u001b[49m\u001b[43m)\u001b[49m\u001b[43m,\u001b[49m\n\u001b[1;32m    557\u001b[0m \u001b[43m        \u001b[49m\u001b[43my_true\u001b[49m\n\u001b[1;32m    558\u001b[0m \u001b[43m    \u001b[49m\u001b[43m]\u001b[49m\n\u001b[1;32m    560\u001b[0m \u001b[38;5;66;03m# Mask values - only for one-hot encoded labels\u001b[39;00m\n\u001b[1;32m    561\u001b[0m \u001b[38;5;28;01melif\u001b[39;00m \u001b[38;5;28mlen\u001b[39m(y_true\u001b[38;5;241m.\u001b[39mshape) \u001b[38;5;241m==\u001b[39m \u001b[38;5;241m2\u001b[39m:\n",
      "\u001b[0;31mIndexError\u001b[0m: arrays used as indices must be of integer (or boolean) type"
=======
      "epoch: 1\n",
      "step: 0, acc: 0.031, loss: 5.010 (data_loss: 5.010, reg_loss: 0.000), lr: 0.001\n",
      "step: 41, acc: 0.014, loss: 5.011 (data_loss: 5.011, reg_loss: 0.000), lr: 0.0009606147934678196\n",
      "training, acc: 0.006, loss: 5.017 (data_loss: 5.017, reg_loss: 0.000), lr: 0.0009606147934678196\n",
      "validation, acc: 0.007, loss: 5.011\n",
      "epoch: 2\n",
      "step: 0, acc: 0.016, loss: 5.008 (data_loss: 5.008, reg_loss: 0.000), lr: 0.0009596928982725527\n",
      "step: 41, acc: 0.014, loss: 5.009 (data_loss: 5.009, reg_loss: 0.000), lr: 0.0009233610341643583\n",
      "training, acc: 0.011, loss: 5.009 (data_loss: 5.009, reg_loss: 0.000), lr: 0.0009233610341643583\n",
      "validation, acc: 0.007, loss: 5.011\n",
      "epoch: 3\n",
      "step: 0, acc: 0.016, loss: 5.006 (data_loss: 5.006, reg_loss: 0.000), lr: 0.0009225092250922509\n",
      "step: 41, acc: 0.014, loss: 5.008 (data_loss: 5.008, reg_loss: 0.000), lr: 0.0008888888888888888\n",
      "training, acc: 0.011, loss: 5.008 (data_loss: 5.008, reg_loss: 0.000), lr: 0.0008888888888888888\n",
      "validation, acc: 0.007, loss: 5.011\n",
      "epoch: 4\n",
      "step: 0, acc: 0.016, loss: 5.005 (data_loss: 5.005, reg_loss: 0.000), lr: 0.0008880994671403199\n",
      "step: 41, acc: 0.014, loss: 5.006 (data_loss: 5.006, reg_loss: 0.000), lr: 0.0008568980291345329\n",
      "training, acc: 0.011, loss: 5.007 (data_loss: 5.007, reg_loss: 0.000), lr: 0.0008568980291345329\n",
      "validation, acc: 0.007, loss: 5.011\n",
      "epoch: 5\n",
      "step: 0, acc: 0.016, loss: 5.003 (data_loss: 5.003, reg_loss: 0.000), lr: 0.0008561643835616439\n",
      "step: 41, acc: 0.014, loss: 5.004 (data_loss: 5.004, reg_loss: 0.000), lr: 0.0008271298593879238\n",
      "training, acc: 0.011, loss: 5.006 (data_loss: 5.006, reg_loss: 0.000), lr: 0.0008271298593879238\n",
      "validation, acc: 0.007, loss: 5.011\n",
      "epoch: 6\n",
      "step: 0, acc: 0.016, loss: 5.000 (data_loss: 5.000, reg_loss: 0.000), lr: 0.0008264462809917356\n",
      "step: 41, acc: 0.014, loss: 5.002 (data_loss: 5.002, reg_loss: 0.000), lr: 0.0007993605115907275\n",
      "training, acc: 0.011, loss: 5.005 (data_loss: 5.005, reg_loss: 0.000), lr: 0.0007993605115907275\n",
      "validation, acc: 0.007, loss: 5.012\n",
      "epoch: 7\n",
      "step: 0, acc: 0.016, loss: 4.997 (data_loss: 4.997, reg_loss: 0.000), lr: 0.0007987220447284346\n",
      "step: 41, acc: 0.014, loss: 4.999 (data_loss: 4.999, reg_loss: 0.000), lr: 0.0007733952049497294\n",
      "training, acc: 0.011, loss: 5.003 (data_loss: 5.003, reg_loss: 0.000), lr: 0.0007733952049497294\n",
      "validation, acc: 0.007, loss: 5.013\n",
      "epoch: 8\n",
      "step: 0, acc: 0.016, loss: 4.994 (data_loss: 4.994, reg_loss: 0.000), lr: 0.0007727975270479134\n",
      "step: 41, acc: 0.014, loss: 4.996 (data_loss: 4.996, reg_loss: 0.000), lr: 0.000749063670411985\n",
      "training, acc: 0.011, loss: 5.002 (data_loss: 5.002, reg_loss: 0.000), lr: 0.000749063670411985\n",
      "validation, acc: 0.007, loss: 5.014\n",
      "epoch: 9\n",
      "step: 0, acc: 0.016, loss: 4.991 (data_loss: 4.991, reg_loss: 0.000), lr: 0.000748502994011976\n",
      "step: 41, acc: 0.014, loss: 4.994 (data_loss: 4.994, reg_loss: 0.000), lr: 0.0007262164124909223\n",
      "training, acc: 0.011, loss: 5.000 (data_loss: 5.000, reg_loss: 0.000), lr: 0.0007262164124909223\n",
      "validation, acc: 0.007, loss: 5.015\n",
      "epoch: 10\n",
      "step: 0, acc: 0.016, loss: 4.988 (data_loss: 4.988, reg_loss: 0.000), lr: 0.000725689404934688\n",
      "step: 41, acc: 0.014, loss: 4.991 (data_loss: 4.991, reg_loss: 0.000), lr: 0.000704721634954193\n",
      "training, acc: 0.011, loss: 4.999 (data_loss: 4.999, reg_loss: 0.000), lr: 0.000704721634954193\n",
      "validation, acc: 0.007, loss: 5.017\n"
>>>>>>> ccf85b41989ab1a3c3e1beeb78a25e896109840b
     ]
    }
   ],
   "source": [
    "# Add layers\n",
    "model = Model()\n",
    "model.add(Layer_Dense(X_train_reshaped.shape[1], 128))\n",
    "model.add(Activation_ReLU())\n",
    "model.add(Layer_Dense(128, 128))\n",
    "model.add(Activation_ReLU())\n",
    "model.add(Layer_Dense(128, 150))\n",
    "model.add(Activation_Softmax())\n",
    "\n",
    "# Set loss, optimizer and accuracy objects\n",
    "model.set(\n",
    "    loss=Loss_CategoricalCrossentropy(),\n",
    "    optimizer=Optimizer_Adam(decay=1e-3),\n",
    "    accuracy=Accuracy_Categorical()\n",
    ")\n",
    "\n",
    "# Finalize the model\n",
    "model.finalize()\n",
    "\n",
    "# Train the model\n",
    "model.train(X_train_reshaped, y_train, validation_data=(X_test_reshaped, y_test),\n",
    "            epochs=10, batch_size=128, print_every=100)"
   ]
  },
  {
   "cell_type": "code",
   "execution_count": null,
   "metadata": {},
   "outputs": [],
   "source": [
    "model.save('pokemon.model')"
   ]
  },
  {
   "cell_type": "code",
   "execution_count": null,
   "metadata": {},
   "outputs": [],
   "source": []
  }
 ],
 "metadata": {
  "kernelspec": {
   "display_name": "env",
   "language": "python",
   "name": "python3"
  },
  "language_info": {
   "codemirror_mode": {
    "name": "ipython",
    "version": 3
   },
   "file_extension": ".py",
   "mimetype": "text/x-python",
   "name": "python",
   "nbconvert_exporter": "python",
   "pygments_lexer": "ipython3",
   "version": "3.10.13"
  }
 },
 "nbformat": 4,
 "nbformat_minor": 2
}
