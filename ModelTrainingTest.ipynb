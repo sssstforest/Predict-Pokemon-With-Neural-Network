{
 "cells": [
  {
   "cell_type": "code",
   "execution_count": 12,
   "metadata": {},
   "outputs": [],
   "source": [
    "import numpy as np\n",
    "import nnfs\n",
    "from ModelClasses import *\n",
    "nnfs.init()"
   ]
  },
  {
   "cell_type": "code",
   "execution_count": 23,
   "metadata": {},
   "outputs": [
    {
     "name": "stdout",
     "output_type": "stream",
     "text": [
      "['Abra', 'Aerodactyl', 'Alakazam', 'Alolan Sandslash', 'Arbok', 'Arcanine', 'Articuno', 'Beedrill', 'Bellsprout', 'Blastoise', 'Bulbasaur', 'Butterfree', 'Caterpie', 'Chansey', 'Charizard', 'Charmander', 'Charmeleon', 'Clefable', 'Clefairy', 'Cloyster', 'Cubone', 'Dewgong', 'Diglett', 'Ditto', 'Dodrio', 'Doduo', 'Dragonair', 'Dragonite', 'Dratini', 'Drowzee', 'Dugtrio', 'Eevee', 'Ekans', 'Electabuzz', 'Electrode', 'Exeggcute', 'Exeggutor', 'Farfetchd', 'Fearow', 'Flareon', 'Gastly', 'Gengar', 'Geodude', 'Gloom', 'Golbat', 'Goldeen', 'Golduck', 'Golem', 'Graveler', 'Grimer', 'Growlithe', 'Gyarados', 'Haunter', 'Hitmonchan', 'Hitmonlee', 'Horsea', 'Hypno', 'Ivysaur', 'Jigglypuff', 'Jolteon', 'Jynx', 'Kabuto', 'Kabutops', 'Kadabra', 'Kakuna', 'Kangaskhan', 'Kingler', 'Koffing', 'Krabby', 'Lapras', 'Lickitung', 'Machamp', 'Machoke', 'Machop', 'Magikarp', 'Magmar', 'Magnemite', 'Magneton', 'Mankey', 'Marowak', 'Meowth', 'Metapod', 'Mew', 'Mewtwo', 'Moltres', 'MrMime', 'Muk', 'Nidoking', 'Nidoqueen', 'Nidorina', 'Nidorino', 'Ninetales', 'Oddish', 'Omanyte', 'Omastar', 'Onix', 'Paras', 'Parasect', 'Persian', 'Pidgeot', 'Pidgeotto', 'Pidgey', 'Pikachu', 'Pinsir', 'Poliwag', 'Poliwhirl', 'Poliwrath', 'Ponyta', 'Porygon', 'Primeape', 'Psyduck', 'Raichu', 'Rapidash', 'Raticate', 'Rattata', 'Rhydon', 'Rhyhorn', 'Sandshrew', 'Sandslash', 'Scyther', 'Seadra', 'Seaking', 'Seel', 'Shellder', 'Slowbro', 'Slowpoke', 'Snorlax', 'Spearow', 'Squirtle', 'Starmie', 'Staryu', 'Tangela', 'Tauros', 'Tentacool', 'Tentacruel', 'Vaporeon', 'Venomoth', 'Venonat', 'Venusaur', 'Victreebel', 'Vileplume', 'Voltorb', 'Vulpix', 'Wartortle', 'Weedle', 'Weepinbell', 'Weezing', 'Wigglytuff', 'Zapdos', 'Zubat']\n",
      "150\n"
     ]
    }
   ],
   "source": [
    "labels = os.listdir('PokemonData')\n",
    "print(labels)\n",
    "print(len(labels))"
   ]
  },
  {
   "cell_type": "code",
   "execution_count": 14,
   "metadata": {},
   "outputs": [],
   "source": [
    "# from PIL import Image\n",
    "# import os\n",
    "\n",
    "# # cnt = 0\n",
    "# def resize_images(path, size=(128, 128)):\n",
    "#     cnt = 0\n",
    "#     for folder in os.listdir(path):\n",
    "#         for filename in os.listdir(os.path.join(path, folder)):\n",
    "#             if filename.endswith('.jpg') or filename.endswith('.png'):  # Add/modify file types here.\n",
    "#                 print(cnt)\n",
    "#                 cnt = cnt+1\n",
    "#                 img = Image.open(os.path.join(path, folder, filename))\n",
    "#                 img = img.resize(size, Image.LANCZOS)\n",
    "#                 img.save(os.path.join(path, folder, filename))  # Overwrites the original image. If you don't want this, change the path here.\n",
    "\n",
    "# # Usage:\n",
    "# resize_images('PokemonData')"
   ]
  },
  {
   "cell_type": "code",
   "execution_count": 15,
   "metadata": {},
   "outputs": [],
   "source": [
    "# X, y= create_data_mnist('PokemonData')"
   ]
  },
  {
   "cell_type": "code",
   "execution_count": 16,
   "metadata": {},
   "outputs": [],
   "source": [
    "# import random\n",
    "# import tensorflow as tf\n",
    "# from tensorflow.python.keras.models import Sequential\n",
    "# # from tensorflow.keras.preprocessing.image import load_img, img_to_array\n",
    "# from tensorflow.keras.preprocessing.image import ImageDataGenerator\n",
    "# from tensorflow.python.keras.layers import Dense, Flatten, GlobalAveragePooling2D, Conv2D, MaxPooling2D\n",
    "# from tensorflow.python.keras.preprocessing.image import ImageDataGenerator\n",
    "# from tensorflow.python.keras.callbacks import ModelCheckpoint, EarlyStopping\n",
    "import random\n",
    "import tensorflow as tf\n",
    "from tensorflow.keras.models import Sequential\n",
    "from tensorflow.keras.preprocessing.image import load_img, img_to_array\n",
    "from tensorflow.keras.layers import Dense, Flatten, GlobalAveragePooling2D, Conv2D, MaxPooling2D\n",
    "from tensorflow.keras.preprocessing.image import ImageDataGenerator\n",
    "from tensorflow.keras.callbacks import ModelCheckpoint, EarlyStopping"
   ]
  },
  {
   "cell_type": "code",
   "execution_count": 17,
   "metadata": {},
   "outputs": [],
   "source": [
    "stored = {}\n",
    "def input_target_split(train_dir,labels):\n",
    "    dataset = []\n",
    "    count = 0\n",
    "    for label in labels:\n",
    "        folder = os.path.join(train_dir,label)\n",
    "        for image in os.listdir(folder):\n",
    "            \n",
    "#             print(os.path.join(folder,image))\n",
    "            try:\n",
    "                img=load_img(os.path.join(folder,image), target_size=(128,128))\n",
    "                img=img_to_array(img)\n",
    "                img=img/255.0\n",
    "                dataset.append((img,count))\n",
    "            except:\n",
    "                pass\n",
    "\n",
    "        print(f'\\rCompleted: {label}',end='')\n",
    "        stored[label] = count\n",
    "        count+=1\n",
    "    random.shuffle(dataset)\n",
    "    X, y = zip(*dataset)\n",
    "    \n",
    "    return np.array(X),np.array(y)"
   ]
  },
  {
   "cell_type": "code",
   "execution_count": 18,
   "metadata": {},
   "outputs": [
    {
     "name": "stdout",
     "output_type": "stream",
     "text": [
      "Completed: Zubatstuffdslash"
     ]
    }
   ],
   "source": [
    "X, y = input_target_split('PokemonData',labels)"
   ]
  },
  {
   "cell_type": "code",
   "execution_count": 19,
   "metadata": {},
   "outputs": [
    {
     "name": "stdout",
     "output_type": "stream",
     "text": [
      "(5322, 128, 128, 3) (1502, 128, 128, 3) (5322,) (1502,)\n"
     ]
    }
   ],
   "source": [
    "from sklearn.model_selection import train_test_split\n",
    "\n",
    "X_train, X_test, y_train, y_test = train_test_split(X, y, test_size=0.22, random_state=42)\n",
    "# print(np.unique(y_train,return_counts=True),np.unique(y_test,return_counts=True))\n",
    "print(X_train.shape, X_test.shape, y_train.shape, y_test.shape)"
   ]
  },
  {
   "cell_type": "code",
   "execution_count": 20,
   "metadata": {},
   "outputs": [],
   "source": [
    "# keys = np.array(range(X_train.shape[0]))\n",
    "# np.random.shuffle(keys)\n",
    "# X_train = X_train[keys]\n",
    "# y_train = y_train[keys]\n",
    "\n",
    "# # Scale and reshape samples\n",
    "# X_train = (X_train.reshape(X_train.shape[0], -1).astype(np.float32) - 127.5) / 127.5\n",
    "# X_test = (X_test.reshape(X_test.shape[0], -1).astype(np.float32) -\n",
    "#              127.5) / 127.5\n",
    "\n",
    "# Instantiate the model\n",
    "# model = Model()"
   ]
  },
  {
   "cell_type": "code",
   "execution_count": 21,
   "metadata": {},
   "outputs": [
    {
     "name": "stdout",
     "output_type": "stream",
     "text": [
      "(5322, 49152)\n",
      "(5322,)\n",
      "(1502, 49152)\n",
      "(1502,)\n"
     ]
    }
   ],
   "source": [
    "X_train_reshaped = (X_train.reshape(X_train.shape[0], -1).astype(np.float32) - 127.5) / 127.5\n",
    "X_test_reshaped = (X_test.reshape(X_test.shape[0], -1).astype(np.float32) -\n",
    "             127.5) / 127.\n",
    "print(X_train_reshaped.shape)\n",
    "print(y_train.shape)\n",
    "print(X_test_reshaped.shape)\n",
    "print(y_test.shape)"
   ]
  },
  {
   "cell_type": "code",
   "execution_count": 25,
   "metadata": {},
   "outputs": [
    {
     "name": "stdout",
     "output_type": "stream",
     "text": [
      "epoch: 1\n",
      "step: 0, acc: 0.008, loss: 5.011 (data_loss: 5.011, reg_loss: 0.000), lr: 0.001\n",
      "step: 41, acc: 0.000, loss: 5.011 (data_loss: 5.011, reg_loss: 0.000), lr: 0.0009606147934678196\n",
      "training, acc: 0.005, loss: 5.015 (data_loss: 5.015, reg_loss: 0.000), lr: 0.0009606147934678196\n",
      "epoch: 2\n",
      "step: 0, acc: 0.008, loss: 5.009 (data_loss: 5.009, reg_loss: 0.000), lr: 0.0009596928982725527\n",
      "step: 41, acc: 0.000, loss: 5.009 (data_loss: 5.009, reg_loss: 0.000), lr: 0.0009233610341643583\n",
      "training, acc: 0.007, loss: 5.010 (data_loss: 5.010, reg_loss: 0.000), lr: 0.0009233610341643583\n",
      "epoch: 3\n",
      "step: 0, acc: 0.008, loss: 5.007 (data_loss: 5.007, reg_loss: 0.000), lr: 0.0009225092250922509\n",
      "step: 41, acc: 0.000, loss: 5.008 (data_loss: 5.008, reg_loss: 0.000), lr: 0.0008888888888888888\n",
      "training, acc: 0.008, loss: 5.008 (data_loss: 5.008, reg_loss: 0.000), lr: 0.0008888888888888888\n",
      "epoch: 4\n",
      "step: 0, acc: 0.008, loss: 5.005 (data_loss: 5.005, reg_loss: 0.000), lr: 0.0008880994671403199\n",
      "step: 41, acc: 0.000, loss: 5.006 (data_loss: 5.006, reg_loss: 0.000), lr: 0.0008568980291345329\n",
      "training, acc: 0.008, loss: 5.007 (data_loss: 5.007, reg_loss: 0.000), lr: 0.0008568980291345329\n",
      "epoch: 5\n",
      "step: 0, acc: 0.008, loss: 5.003 (data_loss: 5.003, reg_loss: 0.000), lr: 0.0008561643835616439\n",
      "step: 41, acc: 0.000, loss: 5.004 (data_loss: 5.004, reg_loss: 0.000), lr: 0.0008271298593879238\n",
      "training, acc: 0.008, loss: 5.006 (data_loss: 5.006, reg_loss: 0.000), lr: 0.0008271298593879238\n",
      "epoch: 6\n",
      "step: 0, acc: 0.008, loss: 5.001 (data_loss: 5.001, reg_loss: 0.000), lr: 0.0008264462809917356\n",
      "step: 41, acc: 0.000, loss: 5.002 (data_loss: 5.002, reg_loss: 0.000), lr: 0.0007993605115907275\n",
      "training, acc: 0.009, loss: 5.005 (data_loss: 5.005, reg_loss: 0.000), lr: 0.0007993605115907275\n",
      "epoch: 7\n",
      "step: 0, acc: 0.008, loss: 4.998 (data_loss: 4.998, reg_loss: 0.000), lr: 0.0007987220447284346\n",
      "step: 41, acc: 0.000, loss: 5.000 (data_loss: 5.000, reg_loss: 0.000), lr: 0.0007733952049497294\n",
      "training, acc: 0.009, loss: 5.003 (data_loss: 5.003, reg_loss: 0.000), lr: 0.0007733952049497294\n",
      "epoch: 8\n",
      "step: 0, acc: 0.008, loss: 4.996 (data_loss: 4.996, reg_loss: 0.000), lr: 0.0007727975270479134\n",
      "step: 41, acc: 0.000, loss: 4.998 (data_loss: 4.998, reg_loss: 0.000), lr: 0.000749063670411985\n",
      "training, acc: 0.009, loss: 5.002 (data_loss: 5.002, reg_loss: 0.000), lr: 0.000749063670411985\n",
      "epoch: 9\n",
      "step: 0, acc: 0.008, loss: 4.994 (data_loss: 4.994, reg_loss: 0.000), lr: 0.000748502994011976\n",
      "step: 41, acc: 0.000, loss: 4.995 (data_loss: 4.995, reg_loss: 0.000), lr: 0.0007262164124909223\n",
      "training, acc: 0.009, loss: 5.001 (data_loss: 5.001, reg_loss: 0.000), lr: 0.0007262164124909223\n",
      "epoch: 10\n",
      "step: 0, acc: 0.008, loss: 4.991 (data_loss: 4.991, reg_loss: 0.000), lr: 0.000725689404934688\n",
      "step: 41, acc: 0.000, loss: 4.994 (data_loss: 4.994, reg_loss: 0.000), lr: 0.000704721634954193\n",
      "training, acc: 0.009, loss: 5.000 (data_loss: 5.000, reg_loss: 0.000), lr: 0.000704721634954193\n"
     ]
    }
   ],
   "source": [
    "# Add layers\n",
    "model = Model()\n",
    "model.add(Layer_Dense(X_train_reshaped.shape[1], 128))\n",
    "model.add(Activation_ReLU())\n",
    "model.add(Layer_Dense(128, 128))\n",
    "model.add(Activation_ReLU())\n",
    "model.add(Layer_Dense(128, 150))\n",
    "model.add(Activation_Softmax())\n",
    "\n",
    "# Set loss, optimizer and accuracy objects\n",
    "model.set(\n",
    "    loss=Loss_CategoricalCrossentropy(),\n",
    "    optimizer=Optimizer_Adam(decay=1e-3),\n",
    "    accuracy=Accuracy_Categorical()\n",
    ")\n",
    "\n",
    "# Finalize the model\n",
    "model.finalize()\n",
    "\n",
    "# Train the model\n",
    "model.train(X_train_reshaped, y_train,\n",
    "            epochs=10, batch_size=128, print_every=100)"
   ]
  },
  {
   "cell_type": "code",
   "execution_count": null,
   "metadata": {},
   "outputs": [],
   "source": []
  }
 ],
 "metadata": {
  "kernelspec": {
   "display_name": "env",
   "language": "python",
   "name": "python3"
  },
  "language_info": {
   "codemirror_mode": {
    "name": "ipython",
    "version": 3
   },
   "file_extension": ".py",
   "mimetype": "text/x-python",
   "name": "python",
   "nbconvert_exporter": "python",
   "pygments_lexer": "ipython3",
   "version": "3.11.7"
  }
 },
 "nbformat": 4,
 "nbformat_minor": 2
}
